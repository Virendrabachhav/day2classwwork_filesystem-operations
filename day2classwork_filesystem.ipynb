{
 "cells": [
  {
   "cell_type": "code",
   "execution_count": 1,
   "id": "c203ae1e-d8a6-47ad-bef2-f48746c72dd2",
   "metadata": {},
   "outputs": [
    {
     "name": "stdout",
     "output_type": "stream",
     "text": [
      "Current Directory Contents:\n",
      "['.anaconda', '.android', '.bash_history', '.conda', '.condarc', '.continuum', '.gitconfig', '.ipynb_checkpoints', '.ipython', '.jupyter', '.lesshst', '.matplotlib', '.virtual_documents', '.vscode', 'anaconda3', 'AppData', 'Application Data', 'Contacts', 'Cookies', 'day2_classwork', 'Documents', 'Downloads', 'Favorites', 'geekster', 'learn_with_geekster', 'Links', 'Local Settings', 'Microsoft', 'Music', 'My Documents', 'my-repo46', 'MyNewDirectory', 'MYREPOSITORY', 'NetHood', 'NTUSER.DAT', 'ntuser.dat.LOG1', 'ntuser.dat.LOG2', 'NTUSER.DAT{606bc10f-4de7-11ee-a956-f43bd84a113a}.TM.blf', 'NTUSER.DAT{606bc10f-4de7-11ee-a956-f43bd84a113a}.TMContainer00000000000000000001.regtrans-ms', 'NTUSER.DAT{606bc10f-4de7-11ee-a956-f43bd84a113a}.TMContainer00000000000000000002.regtrans-ms', 'ntuser.ini', 'OneDrive', 'Pictures', 'PrintHood', 'Recent', 'Saved Games', 'Searches', 'SendTo', 'Start Menu', 'Templates', 'Untitled.ipynb', 'untitled.py', 'Untitled1.ipynb', 'untitled1.py', 'Untitled2.ipynb', 'untitled2.py', 'Untitled3.ipynb', 'Untitled4.ipynb', 'Untitled5.ipynb', 'Untitled6.ipynb', 'Untitled7.ipynb', 'Videos']\n",
      "\n",
      "Content of the file:\n",
      "Hello, this is a test file.\n",
      "\n",
      "Contents of the new directory after renaming:\n",
      "['renamed_file.txt']\n",
      "\n",
      "Deleted the directory and its contents.\n"
     ]
    }
   ],
   "source": [
    "import os\n",
    "\n",
    "new_directory = \"MyNewDirectory\"\n",
    "os.makedirs(new_directory, exist_ok=True)\n",
    "\n",
    "print(\"Current Directory Contents:\")\n",
    "print(os.listdir())\n",
    "\n",
    "file_path = os.path.join(new_directory, \"myfile.txt\")\n",
    "with open(file_path, \"w\") as file:\n",
    "    file.write(\"Hello, this is a test file.\")\n",
    "\n",
    "with open(file_path, \"r\") as file:\n",
    "    content = file.read()\n",
    "print(\"\\nContent of the file:\")\n",
    "print(content)\n",
    "\n",
    "new_file_path = os.path.join(new_directory, \"renamed_file.txt\")\n",
    "os.rename(file_path, new_file_path)\n",
    "\n",
    "print(\"\\nContents of the new directory after renaming:\")\n",
    "print(os.listdir(new_directory))\n",
    "\n",
    "import shutil\n",
    "shutil.rmtree(new_directory)\n",
    "print(\"\\nDeleted the directory and its contents.\")\n"
   ]
  },
  {
   "cell_type": "code",
   "execution_count": null,
   "id": "df907cf6-527a-4f26-b52c-de1a5cacbbb6",
   "metadata": {},
   "outputs": [],
   "source": []
  }
 ],
 "metadata": {
  "kernelspec": {
   "display_name": "Python 3 (ipykernel)",
   "language": "python",
   "name": "python3"
  },
  "language_info": {
   "codemirror_mode": {
    "name": "ipython",
    "version": 3
   },
   "file_extension": ".py",
   "mimetype": "text/x-python",
   "name": "python",
   "nbconvert_exporter": "python",
   "pygments_lexer": "ipython3",
   "version": "3.12.4"
  }
 },
 "nbformat": 4,
 "nbformat_minor": 5
}
